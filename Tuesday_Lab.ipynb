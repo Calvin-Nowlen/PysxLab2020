{
 "cells": [
  {
   "cell_type": "code",
   "execution_count": 20,
   "metadata": {},
   "outputs": [
    {
     "name": "stdout",
     "output_type": "stream",
     "text": [
      "89.56175294784302\n",
      "The average of x is 1.12, and the standard deviation is 0.18\n"
     ]
    }
   ],
   "source": [
    "import numpy as np\n",
    "\n",
    "def rule1(Q,eQ,A):\n",
    "    eA = A*eQ/Q\n",
    "    return eA\n",
    "def rule2(Q,power,A, eQ):\n",
    "    eA = A*power*eQ/Q\n",
    "    return eA\n",
    "def rule3(eA,eB):\n",
    "    eQ = np.sqrt(eA**2+eB**2)\n",
    "    return eQ\n",
    "def rule4(Q, power1, A,eA, power2, B, eB):\n",
    "    eQ = Q*np.sqrt((power1*eA/A)**2+(power2*eB/B)**2)\n",
    "    return eQ\n",
    "Q = 814.19\n",
    "power1 = 1\n",
    "power2 = 1\n",
    "A = 208.3\n",
    "eA = .1\n",
    "eB = 1.1\n",
    "B = 10\n",
    "eQ = rule4(Q, power1, A, eA, power2, B, eB)\n",
    "print(eQ)\n",
    "x = 1.1, 1.3, 1.4, 0.9, 0.95, 1.05\n",
    "avex = np.average(x)\n",
    "stdx = np.std(x)\n",
    "print(\"The average of x is %0.2f, and the standard deviation is %0.2f\" %(avex, stdx))\n"
   ]
  },
  {
   "cell_type": "markdown",
   "metadata": {},
   "source": [
    "$\\delta Q =  \\sqrt{a^2+b^2} *Q$"
   ]
  },
  {
   "cell_type": "markdown",
   "metadata": {},
   "source": [
    "$\\delta F_{c} = F_{c}* \\sqrt{(\\frac{\\delta slope}{slope})^2+(\\frac{\\delta m}{m})^2} $"
   ]
  },
  {
   "cell_type": "code",
   "execution_count": null,
   "metadata": {},
   "outputs": [],
   "source": []
  }
 ],
 "metadata": {
  "kernelspec": {
   "display_name": "Python 3",
   "language": "python",
   "name": "python3"
  },
  "language_info": {
   "codemirror_mode": {
    "name": "ipython",
    "version": 3
   },
   "file_extension": ".py",
   "mimetype": "text/x-python",
   "name": "python",
   "nbconvert_exporter": "python",
   "pygments_lexer": "ipython3",
   "version": "3.8.3"
  }
 },
 "nbformat": 4,
 "nbformat_minor": 4
}
